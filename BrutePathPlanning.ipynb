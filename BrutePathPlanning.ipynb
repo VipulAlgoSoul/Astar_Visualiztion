{
 "cells": [
  {
   "cell_type": "code",
   "execution_count": null,
   "metadata": {},
   "outputs": [],
   "source": [
    "import cv2\n",
    "import numpy as np\n",
    "import random\n",
    "from itertools import permutations\n",
    "import math\n",
    "from scipy.spatial import distance\n"
   ]
  },
  {
   "cell_type": "code",
   "execution_count": null,
   "metadata": {},
   "outputs": [],
   "source": [
    "#starting\n",
    "\n",
    "image=np.zeros((800,800,3),np.uint8)\n",
    "start_point=[25,25]\n",
    "end_point=[600,600]\n",
    "cv2.circle(image,tuple(start_point),20,(0,255,0),-1)\n",
    "cv2.circle(image,tuple(end_point),20,(0,0,255),-1)\n",
    "cv2.putText(image, \"START\", (60, 20),\n",
    "            cv2.FONT_HERSHEY_SIMPLEX, 0.5, (0, 255, 255), 2)\n",
    "cv2.putText(image, \"END\", (660, 600),\n",
    "            cv2.FONT_HERSHEY_SIMPLEX, 0.5, (0, 255, 255), 2)\n",
    "cv2.putText(image, \"BRUTE PATH PLANNING\", (300, 20),\n",
    "            cv2.FONT_HERSHEY_SIMPLEX, 0.5, (0, 255, 255), 2)\n",
    "cv2.putText(image, \"Iterations\", (300, 40),\n",
    "            cv2.FONT_HERSHEY_SIMPLEX, 0.5, (0, 255, 255), 2)\n",
    "cv2.imshow(\"window\",image)\n",
    "if cv2.waitKey(0) & 0xFF==ord(\"q\"):\n",
    "    cv2.destroyAllWindows()"
   ]
  },
  {
   "cell_type": "code",
   "execution_count": null,
   "metadata": {},
   "outputs": [],
   "source": [
    "def Nodes(num_node,image1):\n",
    "    count=0\n",
    "    image=image1.copy()\n",
    "    list_points=[]\n",
    "    while count<=num_node-1:\n",
    "        m=(random.randint(30,500),random.randint(30,500))\n",
    "        list_points.append(m)\n",
    "        \n",
    "    \n",
    "        cv2.circle(image,m,20,(255,0,0),2)\n",
    "        cv2.putText(image, str(count+1), (m[0]+40, m[1]),\n",
    "            cv2.FONT_HERSHEY_SIMPLEX, 0.5, (0, 255, 255), 2)\n",
    "        count=count+1\n",
    "    print(list_points)\n",
    "    \n",
    "    return list_points,image\n",
    "\n",
    "      "
   ]
  },
  {
   "cell_type": "markdown",
   "metadata": {},
   "source": [
    "nodes,image_p=Nodes(5,image)\n",
    "\n",
    "cv2.imshow(\"window\",image_p)\n",
    "if cv2.waitKey(0) & 0xFF==ord(\"q\"):\n",
    "    cv2.destroyAllWindows() "
   ]
  },
  {
   "cell_type": "code",
   "execution_count": null,
   "metadata": {},
   "outputs": [],
   "source": [
    "def Draw_all_path(image_py,node_list,start_point,end_point):\n",
    "    #print(\"the start point is\",start_point)\n",
    "    #print(\"the end point is\",end_point)\n",
    "    best_euc=1000000\n",
    "    iter_count=0\n",
    "    perm=permutations(node_list)\n",
    "    for i in perm:\n",
    "        print(i)\n",
    "        iter_count=iter_count+1\n",
    "        image_n_p=image_py.copy()\n",
    "        m=[tuple(start_point),tuple(end_point)]\n",
    "        m=list(i)\n",
    "        #print(\"the combination path\",i)\n",
    "        m.insert(0, tuple(start_point))\n",
    "        m.insert(len(m)+1, tuple(end_point))\n",
    "        #print(\"the appended path is\")\n",
    "        #print(m)\n",
    "        #print(len(m))\n",
    "        euc_dis=0\n",
    "        for l in range(0,len(m)):\n",
    "            if (l+1)==len(m):\n",
    "                print(\"the euclidean distance is\",euc_dis)\n",
    "                if euc_dis<best_euc:\n",
    "                    best_euc=euc_dis\n",
    "                    #print(\"the best path is\",m)\n",
    "                    best_path=m\n",
    "                    #print(\"the best Euclidean distance\")\n",
    "                    #print(best_euc)\n",
    "                    #cv2.putText(image_n_p, str(int(best_euc)), (end_point[0]+40, 200),\n",
    "                        #cv2.FONT_HERSHEY_SIMPLEX, 0.5, (20, 50, 255), 2)\n",
    "                    #cv2.putText(image_n_p, \"shortest distance\", (end_point[0]+40, 180),\n",
    "                        #cv2.FONT_HERSHEY_SIMPLEX, 0.5, (20, 50, 255), 2)\n",
    "                                 \n",
    "                break\n",
    "            #print(l,\"next\",l+1)\n",
    "            #print(\">>>>>>>>>>><<<<<<<<<<<<<<<\")\n",
    "            #print(type(m[l]))\n",
    "            #print(m[l])\n",
    "            #print((m[l+1]))\n",
    "            euc_dis=euc_dis+distance.euclidean(m[l],m[l+1])\n",
    "            cv2.line(image_n_p, m[l], m[l+1], (255,255,0), 2) \n",
    "            \n",
    "        \n",
    "        print(\"the distance of path\",euc_dis)   \n",
    "        cv2.putText(image_n_p, str(int(euc_dis)), (end_point[0]+40, 100),\n",
    "            cv2.FONT_HERSHEY_SIMPLEX, 0.5, (20, 50, 255), 2)\n",
    "        cv2.putText(image_n_p, \"euclidean distance\", (end_point[0]+40, 80),\n",
    "            cv2.FONT_HERSHEY_SIMPLEX, 0.5, (20, 50, 255), 2)\n",
    "        cv2.putText(image_n_p, str(iter_count), (380,40),\n",
    "            cv2.FONT_HERSHEY_SIMPLEX, 0.5, (20, 50, 255), 2)\n",
    "        cv2.imshow(\"path\",image_n_p)\n",
    "        if cv2.waitKey(80) & 0xFF==ord(\"q\"):\n",
    "            cv2.destroyAllWindows() \n",
    "    print(\"the final best distance is\", best_euc)\n",
    "    print(\"the best path is\",best_path)\n",
    "    \n",
    "    for f in range(0,len(best_path)):\n",
    "            if (f+1)==len(best_path):\n",
    "                break\n",
    "            cv2.line(image_py, best_path[f], best_path[f+1], (0,255,0), 2) \n",
    "            \n",
    "    cv2.putText(image_py, str(iter_count), (380,40),\n",
    "                cv2.FONT_HERSHEY_SIMPLEX, 0.5, (20, 50, 255), 2)\n",
    "    cv2.imshow(\"path\",image_py)\n",
    "    if cv2.waitKey(1000) & 0xFF==ord(\"q\"):\n",
    "        cv2.destroyAllWindows()\n"
   ]
  },
  {
   "cell_type": "code",
   "execution_count": null,
   "metadata": {},
   "outputs": [],
   "source": [
    "nodes,image_p=Nodes(6,image)\n",
    "\n",
    "cv2.imshow(\"window\",image_p)\n",
    "if cv2.waitKey(0) & 0xFF==ord(\"q\"):\n",
    "    cv2.destroyAllWindows() \n",
    "Draw_all_path(image_p,nodes,start_point,end_point)\n",
    "cv2.waitKey(2000)\n",
    "cv2.destroyAllWindows()"
   ]
  },
  {
   "cell_type": "code",
   "execution_count": null,
   "metadata": {},
   "outputs": [],
   "source": []
  }
 ],
 "metadata": {
  "kernelspec": {
   "display_name": "Python 3 (ipykernel)",
   "language": "python",
   "name": "python3"
  },
  "language_info": {
   "codemirror_mode": {
    "name": "ipython",
    "version": 3
   },
   "file_extension": ".py",
   "mimetype": "text/x-python",
   "name": "python",
   "nbconvert_exporter": "python",
   "pygments_lexer": "ipython3",
   "version": "3.10.4"
  }
 },
 "nbformat": 4,
 "nbformat_minor": 4
}
